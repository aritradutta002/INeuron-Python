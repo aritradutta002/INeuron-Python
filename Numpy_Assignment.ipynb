{
  "nbformat": 4,
  "nbformat_minor": 0,
  "metadata": {
    "colab": {
      "name": "Numpy Assignment.ipynb",
      "provenance": []
    },
    "kernelspec": {
      "name": "python3",
      "display_name": "Python 3"
    }
  },
  "cells": [
    {
      "cell_type": "markdown",
      "metadata": {
        "id": "DTP-_g6VWJJO",
        "colab_type": "text"
      },
      "source": [
        "##1 Write a function so that the columns of the output matrix are powers of the input vector. The order of the powers is determined by the increasing boolean argument. Specifically, when increasing is False, the i-th output column is the input vector raised element-wise to the power of N - i - 1.*\n",
        "## HINT: Such a matrix with a geometric progression in each row is named for Alexandre- Theophile Vandermonde.\n"
      ]
    },
    {
      "cell_type": "code",
      "metadata": {
        "id": "1HtyCkXXWDDB",
        "colab_type": "code",
        "colab": {
          "base_uri": "https://localhost:8080/",
          "height": 102
        },
        "outputId": "282ae8fc-b21e-4671-8020-591602923fa3"
      },
      "source": [
        "import numpy as np\n",
        "def ATV(input,n,f=False):\n",
        "    if not f:\n",
        "        matx = np.array([x**(n-1-i) for x in input for i in range(n)]).reshape(input.size,n)\n",
        "    elif f:\n",
        "        matx = np.array([x**i for x in input for i in range(n)]).reshape(input.size,n)\n",
        "    \n",
        "    return matx\n",
        "ATV(np.array([1,2,3,4,5]),3,True)"
      ],
      "execution_count": 1,
      "outputs": [
        {
          "output_type": "execute_result",
          "data": {
            "text/plain": [
              "array([[ 1,  1,  1],\n",
              "       [ 1,  2,  4],\n",
              "       [ 1,  3,  9],\n",
              "       [ 1,  4, 16],\n",
              "       [ 1,  5, 25]])"
            ]
          },
          "metadata": {
            "tags": []
          },
          "execution_count": 1
        }
      ]
    },
    {
      "cell_type": "markdown",
      "metadata": {
        "id": "XEcEcxi5Wgkv",
        "colab_type": "text"
      },
      "source": [
        "## Write a function to find moving average in an array over a window:\n",
        "## Test it over [3, 5, 7, 2, 8, 10, 11, 65, 72, 81, 99, 100, 150] and window of 3."
      ]
    },
    {
      "cell_type": "code",
      "metadata": {
        "id": "7JH7mt49Wf88",
        "colab_type": "code",
        "colab": {
          "base_uri": "https://localhost:8080/",
          "height": 51
        },
        "outputId": "91081f28-59f4-4cbf-fb9e-61a9ea8190b6"
      },
      "source": [
        "def moving_average(n,k):\n",
        "    list1 = []\n",
        "    i = 0\n",
        "    while i < len(n)-k+1:\n",
        "        res = 0\n",
        "        for j in range(i,i+k):\n",
        "            res += n[j]\n",
        "        list1.append(round(res/k,2))\n",
        "        i += 1\n",
        "    return list1\n",
        "array = np.array(moving_average([3, 5, 7, 2, 8, 10, 11, 65, 72, 81, 99, 100, 150],3))\n",
        "print(array)"
      ],
      "execution_count": 2,
      "outputs": [
        {
          "output_type": "stream",
          "text": [
            "[  5.     4.67   5.67   6.67   9.67  28.67  49.33  72.67  84.    93.33\n",
            " 116.33]\n"
          ],
          "name": "stdout"
        }
      ]
    }
  ]
}