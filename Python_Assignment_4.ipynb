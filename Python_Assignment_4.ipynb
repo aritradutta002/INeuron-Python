{
  "nbformat": 4,
  "nbformat_minor": 0,
  "metadata": {
    "colab": {
      "name": "Python_Assignment_4.ipynb",
      "provenance": []
    },
    "kernelspec": {
      "name": "python3",
      "display_name": "Python 3"
    }
  },
  "cells": [
    {
      "cell_type": "markdown",
      "metadata": {
        "id": "rJ5iTNAxRqUc",
        "colab_type": "text"
      },
      "source": [
        "**1.1 Write a Python Program(with class concepts) to find the area of the triangle using the below formula.**\n",
        "\n",
        "**area = (s(s-a)(s-b)(s-c)) * 0.5**\n",
        "\n",
        "**Function to take the length of the sides of triangle from user should be defined in the parent class and function to calculate the area should be defined in subclass.**"
      ]
    },
    {
      "cell_type": "code",
      "metadata": {
        "id": "_ZnOvatJRZge",
        "colab_type": "code",
        "colab": {
          "base_uri": "https://localhost:8080/",
          "height": 85
        },
        "outputId": "37e2efd7-1335-4dfc-a5c9-e2c50b7c2e6f"
      },
      "source": [
        "class triangle:\n",
        "    def __init__(self,a,b,c):\n",
        "        self.a = int(a)\n",
        "        self.b = int(b)\n",
        "        self.c = int(c)\n",
        "class area(triangle):\n",
        "    def __init__(self,*args):\n",
        "        super().__init__(*args)\n",
        "    def calculate_area(self):\n",
        "        s = (self.a+self.b+self.c)/2\n",
        "        ar = (s*(s-self.a)*(s-self.b)*(s-self.c))**0.5\n",
        "        print(\"The area of the triangle is\",ar)\n",
        "side1 = input(\"Enter value of a side of a triangle:\")\n",
        "side2 = input(\"Enter value of a another side of the triangle:\")\n",
        "side3 = input(\"Enter value of a another side of the triangle:\")\n",
        "t = area(side1,side2,side3)\n",
        "t.calculate_area()"
      ],
      "execution_count": 1,
      "outputs": [
        {
          "output_type": "stream",
          "text": [
            "Enter value of a side of a triangle:2\n",
            "Enter value of a another side of the triangle:3\n",
            "Enter value of a another side of the triangle:4\n",
            "The area of the triangle is 2.9047375096555625\n"
          ],
          "name": "stdout"
        }
      ]
    },
    {
      "cell_type": "markdown",
      "metadata": {
        "id": "B_cONCUoR5GY",
        "colab_type": "text"
      },
      "source": [
        "**1.2 Write a function filter_long_words() that takes a list of words and an integer n and returns the list of words that are longer than n.**"
      ]
    },
    {
      "cell_type": "code",
      "metadata": {
        "id": "UoDThXgMR3NC",
        "colab_type": "code",
        "colab": {
          "base_uri": "https://localhost:8080/",
          "height": 34
        },
        "outputId": "008d23fd-8c3c-47c4-d61b-b65d7ec3fd46"
      },
      "source": [
        "def filter_long_words(list1,n):\n",
        "    large = []\n",
        "    for i in list1:\n",
        "        if len(i)>n:\n",
        "            large.append(i)\n",
        "    return large\n",
        "l = ['Aritra','Arnab','Quarantine','Tiger','Sunflower','Data Scientist']\n",
        "largest = filter_long_words(l,6)\n",
        "print(largest)"
      ],
      "execution_count": 2,
      "outputs": [
        {
          "output_type": "stream",
          "text": [
            "['Quarantine', 'Sunflower', 'Data Scientist']\n"
          ],
          "name": "stdout"
        }
      ]
    },
    {
      "cell_type": "markdown",
      "metadata": {
        "id": "-hHJZg24SIt4",
        "colab_type": "text"
      },
      "source": [
        "**2.1 Write a Python program using function concept that maps list of words into a list of integers representing the lengths of the corresponding words .**\n",
        "\n",
        "**Hint: If a list [ ab,cde,erty] is passed on to the python function output should come as [2,3,4] Here 2,3 and 4 are the lengths of the words in the list.**"
      ]
    },
    {
      "cell_type": "code",
      "metadata": {
        "id": "gFDW1fPMSHFf",
        "colab_type": "code",
        "colab": {
          "base_uri": "https://localhost:8080/",
          "height": 34
        },
        "outputId": "5e41ed7a-1928-451d-904e-d6ae147e47b7"
      },
      "source": [
        "def list_of_word_length(list1):\n",
        "    length = []\n",
        "    for i in list1:\n",
        "        length.append(len(i))\n",
        "    return length\n",
        "l = ['Aritra','Arnab','Quarantine','Tiger','Sunflower','Data Scientist']\n",
        "largest = list_of_word_length(l)\n",
        "print(largest)"
      ],
      "execution_count": 3,
      "outputs": [
        {
          "output_type": "stream",
          "text": [
            "[6, 5, 10, 5, 9, 14]\n"
          ],
          "name": "stdout"
        }
      ]
    },
    {
      "cell_type": "markdown",
      "metadata": {
        "id": "5OPNQbHgSXJk",
        "colab_type": "text"
      },
      "source": [
        "**2.2 Write a Python function which takes a character (i.e. a string of length 1) and returns True if it is a vowel, False otherwise.**"
      ]
    },
    {
      "cell_type": "code",
      "metadata": {
        "id": "ncqToWAdSUGC",
        "colab_type": "code",
        "colab": {
          "base_uri": "https://localhost:8080/",
          "height": 34
        },
        "outputId": "22eb2067-99bd-48c7-bff2-0d9d38dd8b16"
      },
      "source": [
        "def check_vowel(c):\n",
        "    return c.lower() in ['a','e','i','o','u']\n",
        "print(check_vowel('I'))"
      ],
      "execution_count": 4,
      "outputs": [
        {
          "output_type": "stream",
          "text": [
            "True\n"
          ],
          "name": "stdout"
        }
      ]
    }
  ]
}