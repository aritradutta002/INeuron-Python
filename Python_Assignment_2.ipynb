{
  "nbformat": 4,
  "nbformat_minor": 0,
  "metadata": {
    "colab": {
      "name": "Python Assignment 2.ipynb",
      "provenance": []
    },
    "kernelspec": {
      "name": "python3",
      "display_name": "Python 3"
    }
  },
  "cells": [
    {
      "cell_type": "markdown",
      "metadata": {
        "id": "nLmfcRpMc2xB",
        "colab_type": "text"
      },
      "source": [
        "**1. Create the below pattern using nested for loop in Python.**"
      ]
    },
    {
      "cell_type": "code",
      "metadata": {
        "id": "-TsenrxRcVq4",
        "colab_type": "code",
        "colab": {
          "base_uri": "https://localhost:8080/",
          "height": 187
        },
        "outputId": "9d36471c-8219-4c32-e6e1-d72031f9e159"
      },
      "source": [
        "n = 5\n",
        "for i in range(0, n):\n",
        "    for j in range(0, i + 1):\n",
        "        print(\"* \", end=\"\")\n",
        "    print(\"\")\n",
        "for i in range(n, 0 , -1):\n",
        "    for j in range(0, i-1):\n",
        "        print(\"* \", end=\"\")\n",
        "    print(\"\")"
      ],
      "execution_count": 1,
      "outputs": [
        {
          "output_type": "stream",
          "text": [
            "* \n",
            "* * \n",
            "* * * \n",
            "* * * * \n",
            "* * * * * \n",
            "* * * * \n",
            "* * * \n",
            "* * \n",
            "* \n",
            "\n"
          ],
          "name": "stdout"
        }
      ]
    },
    {
      "cell_type": "markdown",
      "metadata": {
        "id": "kxqLQmD-dLP_",
        "colab_type": "text"
      },
      "source": [
        "**2. Write a Python program to reverse a word after accepting the input from the user.**\n",
        "**Sample Output:**\n",
        "**Input word: ineuron**\n",
        "**Output: norueni**"
      ]
    },
    {
      "cell_type": "code",
      "metadata": {
        "id": "EVVZK9TQdEeH",
        "colab_type": "code",
        "colab": {
          "base_uri": "https://localhost:8080/",
          "height": 51
        },
        "outputId": "971097dd-0281-4618-f78b-92a52787e01d"
      },
      "source": [
        "s = input('Enter a string:')\n",
        "print(s[::-1])"
      ],
      "execution_count": 2,
      "outputs": [
        {
          "output_type": "stream",
          "text": [
            "Enter a string:ineuron\n",
            "norueni\n"
          ],
          "name": "stdout"
        }
      ]
    }
  ]
}