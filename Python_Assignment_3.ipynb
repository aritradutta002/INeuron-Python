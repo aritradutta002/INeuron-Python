{
  "nbformat": 4,
  "nbformat_minor": 0,
  "metadata": {
    "colab": {
      "name": "Python_Assignment_3.ipynb",
      "provenance": []
    },
    "kernelspec": {
      "name": "python3",
      "display_name": "Python 3"
    }
  },
  "cells": [
    {
      "cell_type": "markdown",
      "metadata": {
        "id": "5RONr-SjLejZ",
        "colab_type": "text"
      },
      "source": [
        "**1.1 Write a Python Program to implement your own myreduce() function which works exactly like Python's built-in function reduce()**"
      ]
    },
    {
      "cell_type": "code",
      "metadata": {
        "id": "Uq22NEQhLI2I",
        "colab_type": "code",
        "colab": {
          "base_uri": "https://localhost:8080/",
          "height": 51
        },
        "outputId": "73375a34-b89a-4109-f647-83e62a6ce6cd"
      },
      "source": [
        "def myreduce(f,l):\n",
        "    result=0\n",
        "    for i in range(len(l)-1):\n",
        "        l[i+1]=f(l[i],l[i+1])\n",
        "    return l[-1]\n",
        "print(myreduce(lambda x,y:x/y,[360,3,4,5,2]))\n",
        "print(myreduce(lambda a,b : a if a > b else b,[ 1 , 3, 5, 6, 2, ]))"
      ],
      "execution_count": 1,
      "outputs": [
        {
          "output_type": "stream",
          "text": [
            "3.0\n",
            "6\n"
          ],
          "name": "stdout"
        }
      ]
    },
    {
      "cell_type": "markdown",
      "metadata": {
        "id": "ekCUORG_Oegf",
        "colab_type": "text"
      },
      "source": [
        "**1.2 Write a Python program to implement your own myfilter() function which works exactly like Python's built-in function filter()**"
      ]
    },
    {
      "cell_type": "code",
      "metadata": {
        "id": "1-jcVKWdOdcB",
        "colab_type": "code",
        "colab": {
          "base_uri": "https://localhost:8080/",
          "height": 51
        },
        "outputId": "34336f58-ab01-43d1-f566-85fd31f21e58"
      },
      "source": [
        "def myfilter(f,l):\n",
        "    list1 = []\n",
        "    for i in l:\n",
        "        if f(i):\n",
        "            list1.append(i)\n",
        "    return list1\n",
        "l = [2,3,4,5,7,89,46,6,7,8]\n",
        "alphabets = ['a', 'b', 'd', 'e', 'i', 'j', 'o']\n",
        "print(list(myfilter(lambda x:x%2!=0,l)))\n",
        "print(list(myfilter(lambda x : x.lower() in ['a','e','i','o','u'],alphabets)))"
      ],
      "execution_count": 2,
      "outputs": [
        {
          "output_type": "stream",
          "text": [
            "[3, 5, 7, 89, 7]\n",
            "['a', 'e', 'i', 'o']\n"
          ],
          "name": "stdout"
        }
      ]
    },
    {
      "cell_type": "markdown",
      "metadata": {
        "id": "SSMUro4XO06N",
        "colab_type": "text"
      },
      "source": [
        "**2 Write List comprehensions to produce the following Lists**"
      ]
    },
    {
      "cell_type": "markdown",
      "metadata": {
        "id": "vwedhQ47O4fn",
        "colab_type": "text"
      },
      "source": [
        "**['x', 'xx', 'xxx', 'xxxx', 'y', 'yy', 'yyy', 'yyyy', 'z', 'zz', 'zzz', 'zzzz']**"
      ]
    },
    {
      "cell_type": "code",
      "metadata": {
        "id": "HeIWiCGOOps9",
        "colab_type": "code",
        "colab": {
          "base_uri": "https://localhost:8080/",
          "height": 34
        },
        "outputId": "163401da-8337-4d06-e3d0-8f1d9876dc7f"
      },
      "source": [
        "input_list = ['x','y','z']\n",
        "[j*i for j in input_list for i in range(1,5)]"
      ],
      "execution_count": 3,
      "outputs": [
        {
          "output_type": "execute_result",
          "data": {
            "text/plain": [
              "['x', 'xx', 'xxx', 'xxxx', 'y', 'yy', 'yyy', 'yyyy', 'z', 'zz', 'zzz', 'zzzz']"
            ]
          },
          "metadata": {
            "tags": []
          },
          "execution_count": 3
        }
      ]
    },
    {
      "cell_type": "markdown",
      "metadata": {
        "id": "stJHtfr-PAeK",
        "colab_type": "text"
      },
      "source": [
        "**['x', 'y', 'z', 'xx', 'yy', 'zz', 'xx', 'yy', 'zz', 'xxxx', 'yyyy', 'zzzz']**"
      ]
    },
    {
      "cell_type": "code",
      "metadata": {
        "id": "Jut0ytHkO-_l",
        "colab_type": "code",
        "colab": {
          "base_uri": "https://localhost:8080/",
          "height": 34
        },
        "outputId": "34d0b9c9-de01-432d-837a-6887d69994d1"
      },
      "source": [
        "input_list = ['x','y','z']\n",
        "[j*i for i in range(1,5) for j in input_list]"
      ],
      "execution_count": 4,
      "outputs": [
        {
          "output_type": "execute_result",
          "data": {
            "text/plain": [
              "['x', 'y', 'z', 'xx', 'yy', 'zz', 'xxx', 'yyy', 'zzz', 'xxxx', 'yyyy', 'zzzz']"
            ]
          },
          "metadata": {
            "tags": []
          },
          "execution_count": 4
        }
      ]
    },
    {
      "cell_type": "markdown",
      "metadata": {
        "id": "tQsyJbLhPHp2",
        "colab_type": "text"
      },
      "source": [
        "**[[2], [3], [4], [3], [4], [5], [4], [5], [6]]**"
      ]
    },
    {
      "cell_type": "code",
      "metadata": {
        "id": "unX5ifvdPG9t",
        "colab_type": "code",
        "colab": {
          "base_uri": "https://localhost:8080/",
          "height": 34
        },
        "outputId": "7c9bb6d1-0863-4392-bcb8-1763a9b89c8d"
      },
      "source": [
        "input_list = [2,3,4]\n",
        "[[i+j] for i in input_list for j in range(0,3)]"
      ],
      "execution_count": 9,
      "outputs": [
        {
          "output_type": "execute_result",
          "data": {
            "text/plain": [
              "[[2], [3], [4], [3], [4], [5], [4], [5], [6]]"
            ]
          },
          "metadata": {
            "tags": []
          },
          "execution_count": 9
        }
      ]
    },
    {
      "cell_type": "markdown",
      "metadata": {
        "id": "cGpsqs0SPVOL",
        "colab_type": "text"
      },
      "source": [
        "**[[2, 3, 4, 5], [3, 4, 5, 6], [4, 5, 6, 7], [5, 6, 7, 8]]**"
      ]
    },
    {
      "cell_type": "code",
      "metadata": {
        "id": "ZB71Vdr8PUbF",
        "colab_type": "code",
        "colab": {
          "base_uri": "https://localhost:8080/",
          "height": 34
        },
        "outputId": "2f23082b-a38b-42aa-fe4f-96777fe88135"
      },
      "source": [
        "input_list = [2,3,4,5]\n",
        "[[i+j for i in input_list] for j in range(0,4)]"
      ],
      "execution_count": 6,
      "outputs": [
        {
          "output_type": "execute_result",
          "data": {
            "text/plain": [
              "[[2, 3, 4, 5], [3, 4, 5, 6], [4, 5, 6, 7], [5, 6, 7, 8]]"
            ]
          },
          "metadata": {
            "tags": []
          },
          "execution_count": 6
        }
      ]
    },
    {
      "cell_type": "markdown",
      "metadata": {
        "id": "Vz6NldqkPbXy",
        "colab_type": "text"
      },
      "source": [
        "**[(1, 1), (2, 1), (3, 1), (1, 2), (2, 2), (3, 2), (1, 3), (2, 3), (3, 3)]**"
      ]
    },
    {
      "cell_type": "code",
      "metadata": {
        "id": "GYXs5XaHPa7-",
        "colab_type": "code",
        "colab": {
          "base_uri": "https://localhost:8080/",
          "height": 34
        },
        "outputId": "9ae289e6-e52d-4500-b678-07e0dc3653d4"
      },
      "source": [
        "input_list = [1,2,3]\n",
        "[(j,i) for i in input_list for j in range(1,4)]"
      ],
      "execution_count": 7,
      "outputs": [
        {
          "output_type": "execute_result",
          "data": {
            "text/plain": [
              "[(1, 1), (2, 1), (3, 1), (1, 2), (2, 2), (3, 2), (1, 3), (2, 3), (3, 3)]"
            ]
          },
          "metadata": {
            "tags": []
          },
          "execution_count": 7
        }
      ]
    }
  ]
}