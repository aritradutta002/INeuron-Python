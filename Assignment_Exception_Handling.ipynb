{
  "nbformat": 4,
  "nbformat_minor": 0,
  "metadata": {
    "colab": {
      "name": "Assignment Exception Handling.ipynb",
      "provenance": [],
      "collapsed_sections": []
    },
    "kernelspec": {
      "name": "python3",
      "display_name": "Python 3"
    }
  },
  "cells": [
    {
      "cell_type": "markdown",
      "metadata": {
        "id": "fYaQEWSklR3S",
        "colab_type": "text"
      },
      "source": [
        "**1. Write a function to compute 5/0 and use try/except to catch the exceptions.**"
      ]
    },
    {
      "cell_type": "code",
      "metadata": {
        "id": "CfwgNkGTkoc6",
        "colab_type": "code",
        "colab": {
          "base_uri": "https://localhost:8080/",
          "height": 34
        },
        "outputId": "13be2e9b-bf77-44f7-ada3-f82e93b6484c"
      },
      "source": [
        "def divide(a,b):\n",
        "    try:\n",
        "        print('The Answer is',a/b)\n",
        "    except:\n",
        "        print(\"Sorry!!! Cannot divide by zero\")\n",
        "divide(5,0)"
      ],
      "execution_count": 1,
      "outputs": [
        {
          "output_type": "stream",
          "text": [
            "Sorry!!! Cannot divide by zero\n"
          ],
          "name": "stdout"
        }
      ]
    },
    {
      "cell_type": "markdown",
      "metadata": {
        "id": "EriDNkLs2Hy7",
        "colab_type": "text"
      },
      "source": [
        "------------"
      ]
    },
    {
      "cell_type": "markdown",
      "metadata": {
        "id": "3cWGMKY91iJ4",
        "colab_type": "text"
      },
      "source": [
        "**Hint: Subject,Verb and Object should be declared in the program as shown below.**\n",
        "\n",
        "**subjects=[\"Americans \",\"Indians\"]\n",
        "verbs=[\"play\",\"watch\"]\n",
        "objects=[\"Baseball\",\"Cricket\"]**\n",
        "\n",
        "**Output should come as below:**\n",
        "\n",
        "**Americans play Baseball.**\n",
        "\n",
        "**Americans play Cricket.**\n",
        "\n",
        "**Americans watch Baseball.**\n",
        "\n",
        "**Americans watch Cricket.**\n",
        "\n",
        "**Indians play Baseball.**\n",
        "\n",
        "**Indians play Cricket.**\n",
        "\n",
        "**Indians watch Baseball.**\n",
        "\n",
        "**Indians watch Cricket.**"
      ]
    },
    {
      "cell_type": "code",
      "metadata": {
        "id": "jzW1j-lDla0S",
        "colab_type": "code",
        "colab": {
          "base_uri": "https://localhost:8080/",
          "height": 153
        },
        "outputId": "8cab9f4d-a634-4dcd-b86f-9737ad191e98"
      },
      "source": [
        "subjects=[\"Americans\",\"Indians\"]\n",
        "verbs=[\"play\",\"watch\"]\n",
        "objects=[\"Baseball\",\"Cricket\"]\n",
        "list1 = [i+' '+j+' '+k for i in subjects for j in verbs for k in objects]\n",
        "for i in list1:\n",
        "  print(i)"
      ],
      "execution_count": 3,
      "outputs": [
        {
          "output_type": "stream",
          "text": [
            "Americans play Baseball\n",
            "Americans play Cricket\n",
            "Americans watch Baseball\n",
            "Americans watch Cricket\n",
            "Indians play Baseball\n",
            "Indians play Cricket\n",
            "Indians watch Baseball\n",
            "Indians watch Cricket\n"
          ],
          "name": "stdout"
        }
      ]
    },
    {
      "cell_type": "code",
      "metadata": {
        "id": "PDOFxYmL2g91",
        "colab_type": "code",
        "colab": {}
      },
      "source": [
        ""
      ],
      "execution_count": null,
      "outputs": []
    }
  ]
}