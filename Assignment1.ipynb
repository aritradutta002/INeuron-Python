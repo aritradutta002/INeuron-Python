{
 "cells": [
  {
   "cell_type": "markdown",
   "metadata": {},
   "source": [
    "# Task1\n"
   ]
  },
  {
   "cell_type": "markdown",
   "metadata": {},
   "source": [
    "## 1. Install Jupyter notebook and run the first program and share the screenshot of the output.\n"
   ]
  },
  {
   "attachments": {
    "Assignment1.png": {
     "image/png": "[encoded data removed]"
    }
   },
   "cell_type": "markdown",
   "metadata": {},
   "source": [
    "![Assignment1.png](attachment:Assignment1.png)"
   ]
  },
  {
   "cell_type": "markdown",
   "metadata": {},
   "source": [
    "## 2.Write a program which will find all such numbers which are divisible by 7 but are not a multiple of 5, between 2000 and 3200 (both included). The numbers obtained should be printed in a comma-separated sequence on a single line.\n"
   ]
  },
  {
   "cell_type": "code",
   "execution_count": 4,
   "metadata": {},
   "outputs": [
    {
     "name": "stdout",
     "output_type": "stream",
     "text": [
      "2002,2009,2016,2023,2037,2044,2051,2058,2072,2079,2086,2093,2107,2114,2121,2128,2142,2149,2156,2163,2177,2184,2191,2198,2212,2219,2226,2233,2247,2254,2261,2268,2282,2289,2296,2303,2317,2324,2331,2338,2352,2359,2366,2373,2387,2394,2401,2408,2422,2429,2436,2443,2457,2464,2471,2478,2492,2499,2506,2513,2527,2534,2541,2548,2562,2569,2576,2583,2597,2604,2611,2618,2632,2639,2646,2653,2667,2674,2681,2688,2702,2709,2716,2723,2737,2744,2751,2758,2772,2779,2786,2793,2807,2814,2821,2828,2842,2849,2856,2863,2877,2884,2891,2898,2912,2919,2926,2933,2947,2954,2961,2968,2982,2989,2996,3003,3017,3024,3031,3038,3052,3059,3066,3073,3087,3094,3101,3108,3122,3129,3136,3143,3157,3164,3171,3178,3192,3199\n"
     ]
    }
   ],
   "source": [
    "list1 = []\n",
    "for i in range(2000,3201):\n",
    "    if i%7==0:\n",
    "        if i%5!=0:\n",
    "            list1.append(str(i))\n",
    "string = \",\".join(list1)\n",
    "print(string)"
   ]
  },
  {
   "cell_type": "markdown",
   "metadata": {},
   "source": [
    "## 3.Write a Python program to accept the user's first and last name and then getting them printed in the the reverse order with a space between first name and last name. \n"
   ]
  },
  {
   "cell_type": "code",
   "execution_count": 45,
   "metadata": {},
   "outputs": [
    {
     "name": "stdout",
     "output_type": "stream",
     "text": [
      "Enter First Name:Aritra\n",
      "Enter Last Name:Dutta\n",
      "attuD artirA\n"
     ]
    }
   ],
   "source": [
    "first = input('Enter First Name:')\n",
    "last = input('Enter Last Name:')\n",
    "print(last[::-1]+' '+first[::-1])"
   ]
  },
  {
   "cell_type": "markdown",
   "metadata": {},
   "source": [
    "## 4.Write a Python program to find the volume of a sphere with diameter 12 cm.\n",
    "## Formula: V=4/3 * π * r 3"
   ]
  },
  {
   "cell_type": "code",
   "execution_count": 8,
   "metadata": {},
   "outputs": [
    {
     "name": "stdout",
     "output_type": "stream",
     "text": [
      "905.1428571428572\n"
     ]
    }
   ],
   "source": [
    "d = 12\n",
    "radius = d/2\n",
    "pi = 22/7\n",
    "v = (4*pi*(radius**3))/3\n",
    "print(v)"
   ]
  },
  {
   "cell_type": "markdown",
   "metadata": {},
   "source": [
    "# Task 2\n"
   ]
  },
  {
   "cell_type": "markdown",
   "metadata": {},
   "source": [
    "## 1.Write a program which accepts a sequence of comma-separated numbers from console and generate a list.\n"
   ]
  },
  {
   "cell_type": "code",
   "execution_count": 11,
   "metadata": {},
   "outputs": [
    {
     "name": "stdout",
     "output_type": "stream",
     "text": [
      "Enter comma-separated numbers:12,23,34,45,56,67,78,89\n",
      "[12, 23, 34, 45, 56, 67, 78, 89]\n"
     ]
    }
   ],
   "source": [
    "s = input('Enter comma-separated numbers:')\n",
    "list1 = s.split(',')\n",
    "list2 = []\n",
    "for i in list1:\n",
    "    list2.append(int(i))\n",
    "print(list2)"
   ]
  },
  {
   "cell_type": "markdown",
   "metadata": {},
   "source": [
    "## 2.Create the below pattern using nested for loop in Python.\n"
   ]
  },
  {
   "cell_type": "code",
   "execution_count": 34,
   "metadata": {},
   "outputs": [
    {
     "name": "stdout",
     "output_type": "stream",
     "text": [
      "* \n",
      "* * \n",
      "* * * \n",
      "* * * * \n",
      "* * * * * \n",
      "* * * * \n",
      "* * * \n",
      "* * \n",
      "* \n",
      "\n"
     ]
    }
   ],
   "source": [
    "n = 5\n",
    "for i in range(0, n):\n",
    "    for j in range(0, i + 1):\n",
    "        print(\"* \", end=\"\")\n",
    "    print(\"\")\n",
    "for i in range(n, 0 , -1):\n",
    "    for j in range(0, i-1):\n",
    "        print(\"* \", end=\"\")\n",
    "    print(\"\")"
   ]
  },
  {
   "cell_type": "markdown",
   "metadata": {},
   "source": [
    "## 3.Write a Python program to reverse a word after accepting the input from the user.\n",
    "## Sample Output:\n",
    "## Input word: AcadGild\n",
    "## Output: dliGdacA\n"
   ]
  },
  {
   "cell_type": "code",
   "execution_count": 12,
   "metadata": {},
   "outputs": [
    {
     "name": "stdout",
     "output_type": "stream",
     "text": [
      "Enter a string:AcadGild\n",
      "dliGdacA\n"
     ]
    }
   ],
   "source": [
    "s = input('Enter a string:')\n",
    "print(s[::-1])"
   ]
  },
  {
   "cell_type": "markdown",
   "metadata": {},
   "source": [
    "## 4.Write a Python Program to print the given string in the format specified in the sample output.\n",
    "## WE, THE PEOPLE OF INDIA, having solemnly resolved to constitute India into a SOVEREIGN, SOCIALIST, SECULAR, DEMOCRATIC REPUBLIC and to secure to all its citizens\n",
    "## Sample Output:\n",
    "## WE, THE PEOPLE OF INDIA,\n",
    "##         having solemnly resolved to constitute India into a SOVEREIGN, !\n",
    "##             SOCIALIST, SECULAR, DEMOCRATIC REPUBLIC\n",
    "##              and to secure to all its citizens\n"
   ]
  },
  {
   "cell_type": "code",
   "execution_count": 66,
   "metadata": {},
   "outputs": [
    {
     "name": "stdout",
     "output_type": "stream",
     "text": [
      "WE, THE PEOPLE OF INDIA,\n",
      "\thaving solemnly resolved to constitute India into a SOVEREIGN,!\n",
      "\t\tSOCIALIST, SECULAR, DEMOCRATIC REPUBLIC\n",
      "\t\t and to secure to all its citizens \n"
     ]
    }
   ],
   "source": [
    "s = 'WE, THE PEOPLE OF INDIA, having solemnly resolved to constitute India into a SOVEREIGN, SOCIALIST, SECULAR, DEMOCRATIC REPUBLIC and to secure to all its citizens'\n",
    "list1 = s.split(', ')\n",
    "list2 = list1[5].split()\n",
    "#print(list1[:2]+'\\n\\t'+list1[2:3]+' !\\n\\t\\t'+list1[3:5]+list2[:2]+'\\n\\t\\t '+list2[2:])\n",
    "list1\n",
    "s1 = list1[0]+', '+list1[1]+','\n",
    "s2 = list1[2]+',!'\n",
    "s3 = list1[3]+', '+list1[4]+', '+list2[0]+' '+list2[1]\n",
    "s4=''\n",
    "for i in range(2,len(list2)):\n",
    "    s4 = s4+list2[i]+' '\n",
    "print(s1+'\\n\\t'+s2+'\\n\\t\\t'+s3+'\\n\\t\\t '+s4)"
   ]
  },
  {
   "cell_type": "code",
   "execution_count": null,
   "metadata": {},
   "outputs": [],
   "source": []
  }
 ],
 "metadata": {
  "kernelspec": {
   "display_name": "Python 3",
   "language": "python",
   "name": "python3"
  },
  "language_info": {
   "codemirror_mode": {
    "name": "ipython",
    "version": 3
   },
   "file_extension": ".py",
   "mimetype": "text/x-python",
   "name": "python",
   "nbconvert_exporter": "python",
   "pygments_lexer": "ipython3",
   "version": "3.7.4"
  }
 },
 "nbformat": 4,
 "nbformat_minor": 2
}
